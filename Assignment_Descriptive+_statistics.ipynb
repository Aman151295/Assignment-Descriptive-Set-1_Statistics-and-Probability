{
  "nbformat": 4,
  "nbformat_minor": 0,
  "metadata": {
    "colab": {
      "name": "Assignment_Descriptive+ statistics.ipynb",
      "provenance": [],
      "collapsed_sections": [],
      "include_colab_link": true
    },
    "kernelspec": {
      "name": "python3",
      "display_name": "Python 3"
    },
    "language_info": {
      "name": "python"
    }
  },
  "cells": [
    {
      "cell_type": "markdown",
      "metadata": {
        "id": "view-in-github",
        "colab_type": "text"
      },
      "source": [
        "<a href=\"https://colab.research.google.com/github/Aman151295/Assignment-Descriptive-Set-1_Statistics-and-Probability/blob/main/Assignment_Descriptive%2B_statistics.ipynb\" target=\"_parent\"><img src=\"https://colab.research.google.com/assets/colab-badge.svg\" alt=\"Open In Colab\"/></a>"
      ]
    },
    {
      "cell_type": "markdown",
      "source": [
        "**Q1**\tLook at the data given below. Plot the data, find the outliers and find out  μ,σ,σ^2\n",
        "\n",
        "Name of company\tMeasure X\n",
        "Allied Signal\t24.23%\n",
        "Bankers Trust\t25.53%\n",
        "General Mills\t25.41%\n",
        "ITT Industries\t24.14%\n",
        "J.P.Morgan & Co.\t29.62%\n",
        "Lehman Brothers\t28.25%\n",
        "Marriott\t25.81%\n",
        "MCI\t24.39%\n",
        "Merrill Lynch\t40.26%\n",
        "Microsoft\t32.95%\n",
        "Morgan Stanley\t91.36%\n",
        "Sun Microsystems\t25.99%\n",
        "Travelers\t39.42%\n",
        "US Airways\t26.71%\n",
        "Warner-Lambert\t35.00%\n",
        "\n"
      ],
      "metadata": {
        "id": "pY6K2r2Sewpq"
      }
    },
    {
      "cell_type": "code",
      "source": [
        "import matplotlib.pyplot as plt\n",
        "\n",
        "%matplotlib inline\n",
        "import pandas as pd\n",
        "\n",
        "\n",
        "\n",
        "\n",
        "X = [24.23, 25.53, 25.41, 24.14, 29.62, 28.25, 25.81, 24.39, 40.26, 32.95, 91.36, 25.99, 39.42, 26.71, 35.00]\n",
        "X_Series = pd.Series(data=X)\n",
        "plt.boxplot(X_Series, vert=False,patch_artist=True,boxprops=dict(facecolor=\"C8\"))\n",
        "\n",
        "plt.title('Comapnies & their measures')\n",
        "\n",
        "\n",
        "#Q1/ 25 percentile of entire data\n",
        "\n",
        "Q1 = X_Series.quantile(0.25)\n",
        "Q3 = X_Series.quantile(0.75)\n",
        "IQR = Q3 - Q1\n",
        "\n",
        "\n",
        "print('First Quartile :', Q1)\n",
        "print('Third Quartile :', Q3)\n",
        "print('IQR:', IQR)\n",
        "\n",
        "# For Outliers, we need to find values which are less than ( Q1 - 1.5*IQR)\n",
        "#  & grater than (Q3 + 1.5*IQR), they are to be considered as outliers.\n",
        "\n",
        "Lower_outliers = (Q1 - 1.5*IQR)\n",
        "print('Lower boundary for outliers :', Lower_outliers )\n",
        "\n",
        "Upper_outliers = (Q3 + 1.5*IQR)\n",
        "print('Upper boundary for outliers :', Upper_outliers )\n",
        "\n",
        "\n",
        "Mean = X_Series.mean()\n",
        "print('Mean of Measures :' ,Mean)\n",
        "\n",
        "Standard_deviation = X_Series.std()\n",
        "print('S.D of Measures :' ,Standard_deviation)\n",
        "\n",
        "Variance = X_Series.var()\n",
        "print('variance of Measures :' ,Variance)\n",
        "\n"
      ],
      "metadata": {
        "colab": {
          "base_uri": "https://localhost:8080/",
          "height": 420
        },
        "id": "RhEVYFKLe1Df",
        "outputId": "09f468a4-4f8e-4a25-ee14-3cb0b82b158a"
      },
      "execution_count": null,
      "outputs": [
        {
          "output_type": "stream",
          "name": "stdout",
          "text": [
            "First Quartile : 25.47\n",
            "Third Quartile : 33.975\n",
            "IQR: 8.505000000000003\n",
            "Lower boundary for outliers : 12.712499999999995\n",
            "Upper boundary for outliers : 46.7325\n",
            "Mean of Measures : 33.27133333333333\n",
            "S.D of Measures : 16.945400921222028\n",
            "variance of Measures : 287.1466123809524\n"
          ]
        },
        {
          "output_type": "display_data",
          "data": {
            "image/png": "[encoded data removed]",
            "text/plain": [
              "<Figure size 432x288 with 1 Axes>"
            ]
          },
          "metadata": {
            "needs_background": "light"
          }
        }
      ]
    },
    {
      "cell_type": "markdown",
      "source": [
        ""
      ],
      "metadata": {
        "id": "kV1O5HSQTKlw"
      }
    }
  ]
}